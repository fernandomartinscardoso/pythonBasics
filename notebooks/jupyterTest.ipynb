{
 "cells": [
  {
   "cell_type": "markdown",
   "id": "75fc36d6",
   "metadata": {},
   "source": [
    "# Testing creation of Jupyter Notebook on VS Code\n",
    "\n",
    "## Printing hello world with Python command `print()`\n",
    "\n",
    "Just type:"
   ]
  },
  {
   "cell_type": "code",
   "execution_count": null,
   "id": "8e1015db",
   "metadata": {},
   "outputs": [
    {
     "name": "stdout",
     "output_type": "stream",
     "text": [
      "Hello, World!\n"
     ]
    }
   ],
   "source": [
    "print(\"Hello, World!\")"
   ]
  },
  {
   "cell_type": "markdown",
   "id": "d32c4724",
   "metadata": {},
   "source": [
    "Virtual environments for python in this [link](https://packaging.python.org/en/latest/guides/installing-using-pip-and-virtual-environments/#creating-a-virtual-environment)\n",
    "The main points are:\n",
    "- create virtual environment: `py -m venv env` where `env` is the enviroment name, which can be whatever you want: `py -m venv <env_name>`\n",
    "- activate environment: `.\\env\\Scripts\\activate`\n",
    "- check if the installation module is updated: `python.exe -m pip install --upgrade pip`\n",
    "- now you can install the lib you need in the activated environment: `py -m pip install <lib_name>`\n",
    "\n",
    "For speech to text convertion, check this [link](https://www.geeksforgeeks.org/python/python-convert-speech-to-text-and-text-to-speech/)"
   ]
  }
 ],
 "metadata": {
  "kernelspec": {
   "display_name": ".venv",
   "language": "python",
   "name": "python3"
  },
  "language_info": {
   "codemirror_mode": {
    "name": "ipython",
    "version": 3
   },
   "file_extension": ".py",
   "mimetype": "text/x-python",
   "name": "python",
   "nbconvert_exporter": "python",
   "pygments_lexer": "ipython3",
   "version": "3.12.5"
  }
 },
 "nbformat": 4,
 "nbformat_minor": 5
}
