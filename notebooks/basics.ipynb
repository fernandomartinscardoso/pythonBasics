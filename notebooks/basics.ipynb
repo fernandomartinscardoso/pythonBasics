{
 "cells": [
  {
   "cell_type": "markdown",
   "id": "75fc36d6",
   "metadata": {},
   "source": [
    "# Python Basics on VS Code \n",
    "\n",
    "## Setting Virtual Environment for Python and Installing Libs\n",
    "\n",
    "Setup based on the information available in this [link](https://packaging.python.org/en/latest/guides/installing-using-pip-and-virtual-environments/#creating-a-virtual-environment).\n",
    "The main points are:\n",
    "- create virtual environment: `py -m venv env` where `env` is the enviroment name, which can be whatever you want: `py -m venv <env_name>`\n",
    "- activate environment: `.\\<env_name>\\Scripts\\activate`\n",
    "- check if the installation module is updated: `python.exe -m pip install --upgrade pip`\n",
    "- now you can install the lib you need in the activated environment: `py -m pip install <lib_name>`\n",
    "\n",
    "## Inserting figures:\n",
    "\n",
    "To insert figures, use the command `![<figure_caption>](<figure_path>)`. For example, the Python Cheat Sheet in .jpg below:\n",
    "\n",
    "<img src=\"python_cheat_sheet.jpg\" alt=\"python_cheat_sheet\" style=\"width:1000px;\"/>\n",
    "\n",
    "## Libraries:\n",
    "\n",
    "### gTTS\n",
    "\n",
    "It is a library to convert text to speech based on Google Translate database, and save the audio in mp3 format. Example of basic implementation:\n",
    "\n",
    "```\n",
    "from gtts import gTTS\n",
    "\n",
    "tts = gTTS('Ich habe keine Zeit. Entschuldigung!', lang='de')\n",
    "tts.save('deutschOut.mp3')\n",
    "```\n",
    "\n",
    "Although, to make the other way around, and convert speech to text, this [link](https://www.geeksforgeeks.org/python/python-convert-speech-to-text-and-text-to-speech/) must be checked."
   ]
  }
 ],
 "metadata": {
  "kernelspec": {
   "display_name": ".venv",
   "language": "python",
   "name": "python3"
  },
  "language_info": {
   "codemirror_mode": {
    "name": "ipython",
    "version": 3
   },
   "file_extension": ".py",
   "mimetype": "text/x-python",
   "name": "python",
   "nbconvert_exporter": "python",
   "pygments_lexer": "ipython3",
   "version": "3.12.5"
  }
 },
 "nbformat": 4,
 "nbformat_minor": 5
}
